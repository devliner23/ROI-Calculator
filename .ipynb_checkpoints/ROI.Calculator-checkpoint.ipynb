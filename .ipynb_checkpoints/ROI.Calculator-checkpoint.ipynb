{
 "cells": [
  {
   "cell_type": "markdown",
   "id": "b1b910a0",
   "metadata": {},
   "source": [
    "We will continue practicing Object Oriented Programming in this assignment to become more fluent in Python. \n",
    "\n",
    "Here we assume that we have a client coming to us asking for an automated Rental Property Calculator. Our client's name is Brandon from a company called \"Bigger Pockets\". Below, you will find a video of what Brandon usually does to calculate his Rental Property ROI.\n",
    "\n",
    "Using Visual Studio Code/Jupyter Notebook, and Object Oriented Programming create a program that will calculate the Return on Investment(ROI) for a rental property.\n",
    "\n",
    "This project will be completed individually, though you can feel free to share ideas with your fellow students.\n",
    "\n",
    "Once completed, commit the project to github and submit the link to this assignment.\n"
   ]
  },
  {
   "cell_type": "code",
   "execution_count": 1,
   "id": "dabfa6b8",
   "metadata": {},
   "outputs": [
    {
     "name": "stdout",
     "output_type": "stream",
     "text": [
      "Your ROI for this rental property is: 3.3333333333333335\n"
     ]
    }
   ],
   "source": [
    "class Property:\n",
    "    def __init__(self, property_value, rental_cash, expenses):\n",
    "        self.property_value = property_value\n",
    "        self.rental_cash = rental_cash\n",
    "        self.expenses = expenses\n",
    "        self.cash_flow = 0\n",
    "        \n",
    "    def findROI(self):\n",
    "        self.cash_flow = self.rental_cash - self.expenses\n",
    "        ROI = (self.cash_flow / self.property_value) * 100\n",
    "        return ROI\n",
    "    \n",
    "property1 = Property(300000, 25000, 15000)\n",
    "roi =  property1.findROI()\n",
    "print(f'Your ROI for this rental property is: {roi}')"
   ]
  }
 ],
 "metadata": {
  "kernelspec": {
   "display_name": "Python 3 (ipykernel)",
   "language": "python",
   "name": "python3"
  },
  "language_info": {
   "codemirror_mode": {
    "name": "ipython",
    "version": 3
   },
   "file_extension": ".py",
   "mimetype": "text/x-python",
   "name": "python",
   "nbconvert_exporter": "python",
   "pygments_lexer": "ipython3",
   "version": "3.9.13"
  }
 },
 "nbformat": 4,
 "nbformat_minor": 5
}
